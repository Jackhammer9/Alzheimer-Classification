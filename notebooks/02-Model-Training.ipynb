{
 "cells": [
  {
   "cell_type": "markdown",
   "metadata": {},
   "source": [
    "<div align = \"center\" style = \"font-family:consolas;\"> <h1> Alzheimer's Dataset Model Analysis </h1> </div>"
   ]
  },
  {
   "cell_type": "markdown",
   "metadata": {},
   "source": [
    "<div align = \"center\"> <p style = \"font-family: consolas\"> This notebook is being used to train an efficent classification model to classify patients with the train data set accquired during previous step</p> </div>"
   ]
  },
  {
   "cell_type": "markdown",
   "metadata": {},
   "source": [
    "<ul><li><p style = \"font-family: consolas\"> Importing important libraries</p></li></ul>"
   ]
  },
  {
   "cell_type": "code",
   "execution_count": 13,
   "metadata": {},
   "outputs": [],
   "source": [
    "# Data manipulation\n",
    "import pandas as pd\n",
    "import numpy as np\n",
    "\n",
    "# Preprocessing\n",
    "from sklearn.compose import ColumnTransformer\n",
    "from sklearn.preprocessing import QuantileTransformer, OneHotEncoder\n",
    "from sklearn.pipeline import Pipeline\n",
    "\n",
    "# Model selection\n",
    "from sklearn.ensemble import RandomForestClassifier, GradientBoostingClassifier\n",
    "from sklearn.linear_model import LogisticRegression\n",
    "from sklearn.tree import DecisionTreeClassifier\n",
    "from sklearn.svm import SVC\n",
    "from sklearn.neighbors import KNeighborsClassifier\n",
    "from sklearn.naive_bayes import GaussianNB\n",
    "\n",
    "#Model training\n",
    "from sklearn.model_selection import GridSearchCV"
   ]
  },
  {
   "cell_type": "markdown",
   "metadata": {},
   "source": [
    "<ul><li><p style = \"font-family: consolas\"> Loading Data</p></li></ul>"
   ]
  },
  {
   "cell_type": "code",
   "execution_count": 14,
   "metadata": {},
   "outputs": [],
   "source": [
    "train_data = pd.read_csv('data/train_data.csv')\n",
    "\n",
    "y = train_data['Alzheimer’s Diagnosis']\n",
    "X = train_data.drop(columns=['Alzheimer’s Diagnosis'])"
   ]
  },
  {
   "cell_type": "code",
   "execution_count": null,
   "metadata": {},
   "outputs": [],
   "source": [
    "X.info()"
   ]
  },
  {
   "cell_type": "markdown",
   "metadata": {},
   "source": [
    "<ul><li><p style = \"font-family: consolas\">Building Pipeline</p></li></ul>"
   ]
  },
  {
   "cell_type": "code",
   "execution_count": 16,
   "metadata": {},
   "outputs": [],
   "source": [
    "categorical_features = ['Country','Physical Activity Level','Smoking Status'\n",
    "                        , 'Alcohol Consumption', 'Depression Level', 'Sleep Quality',\n",
    "                        'Dietary Habits', 'Air Pollution Exposure', 'Employment Status' , \n",
    "                        'Marital Status', 'Social Engagement Level', 'Stress Levels',\n",
    "                        'Income Level']\n",
    "\n",
    "numerical_features = [x for x in X.columns if x not in categorical_features]\n",
    "\n",
    "#Building a preprocessor\n",
    "preprocessor = ColumnTransformer(\n",
    "    transformers=[\n",
    "        ('num', QuantileTransformer() , numerical_features),\n",
    "        ('cat', OneHotEncoder(handle_unknown='ignore' , sparse_output=False) ,categorical_features)\n",
    "    ])\n",
    "\n",
    "# Building a pipeline\n",
    "pipeline = Pipeline(steps=[('preprocessor', preprocessor),\n",
    "                           ('classifier', RandomForestClassifier())\n",
    "                ])"
   ]
  },
  {
   "cell_type": "markdown",
   "metadata": {},
   "source": [
    "<ul><li><p style = \"font-family: consolas\">Train using GridSearchCV</p></li></ul>"
   ]
  },
  {
   "cell_type": "code",
   "execution_count": 17,
   "metadata": {},
   "outputs": [],
   "source": [
    "parameters = [\n",
    "    {\n",
    "        'classifier' : [LogisticRegression()],\n",
    "        'classifier__penalty' : ['l1', 'l2', 'elasticnet', 'none'],\n",
    "        'classifier__C' : np.logspace(-3, 2, 6),\n",
    "        'classifier__solver' : ['newton-cg', 'lbfgs', 'liblinear', 'sag', 'saga']\n",
    "    },\n",
    "    {\n",
    "        'classifier' : [DecisionTreeClassifier()],\n",
    "        'classifier__criterion' : ['gini', 'entropy'],\n",
    "        'classifier__splitter' : ['best', 'random'],\n",
    "        'classifier__max_depth' : [10, 20, 30],\n",
    "        'classifier__min_samples_split' : [2, 5, 10],\n",
    "        'classifier__min_samples_leaf' : [1, 2, 4]\n",
    "    },\n",
    "    {\n",
    "        'classifier' : [RandomForestClassifier()],\n",
    "        'classifier__n_estimators' : [100, 200, 300],\n",
    "        'classifier__criterion' : ['gini', 'entropy'],\n",
    "        'classifier__max_depth' : [10, 20, 30],\n",
    "        'classifier__min_samples_split' : [2, 5, 10],\n",
    "        'classifier__min_samples_leaf' : [1, 2, 4]\n",
    "    },\n",
    "    {\n",
    "        'classifier' : [GradientBoostingClassifier()],\n",
    "        'classifier__n_estimators' : [100, 200, 300],\n",
    "        'classifier__learning_rate' : np.logspace(-3, 0, 4),\n",
    "        'classifier__max_depth' : [3, 4, 5],\n",
    "        'classifier__min_samples_split' : [2, 5, 10],\n",
    "        'classifier__min_samples_leaf' : [1, 2, 4],\n",
    "        'classifier__subsample' : [0.8, 0.9, 1.0]\n",
    "    },\n",
    "    {\n",
    "        'classifier' : [SVC()],\n",
    "        'classifier__C' : np.logspace(-3, 2, 6),\n",
    "        'classifier__kernel' : ['linear', 'poly', 'rbf', 'sigmoid'],\n",
    "        'classifier__degree' : [2, 3, 4],\n",
    "        'classifier__gamma' : ['scale', 'auto']\n",
    "    },\n",
    "    {\n",
    "        'classifier' : [KNeighborsClassifier()],\n",
    "        'classifier__n_neighbors' : [3, 5, 7, 9, 11, 13],\n",
    "        'classifier__weights' : ['uniform', 'distance'],\n",
    "        'classifier__algorithm' : ['auto', 'ball_tree', 'kd_tree', 'brute'],\n",
    "        'classifier__metric' : ['euclidean', 'manhattan', 'chebyshev', 'minkowski']\n",
    "    },\n",
    "    {\n",
    "        'classifier' : [GaussianNB()],\n",
    "        'classifier__var_smoothing' : np.logspace(-9, -6, 4)\n",
    "    }\n",
    "]\n",
    "\n",
    "model = GridSearchCV(pipeline, parameters, cv=9, n_jobs=-1, verbose=3)\n",
    "model.fit(X, y)"
   ]
  }
 ],
 "metadata": {
  "kernelspec": {
   "display_name": "Python 3 (ipykernel)",
   "language": "python",
   "name": "python3"
  },
  "language_info": {
   "codemirror_mode": {
    "name": "ipython",
    "version": 3
   },
   "file_extension": ".py",
   "mimetype": "text/x-python",
   "name": "python",
   "nbconvert_exporter": "python",
   "pygments_lexer": "ipython3",
   "version": "3.12.0"
  }
 },
 "nbformat": 4,
 "nbformat_minor": 2
}
