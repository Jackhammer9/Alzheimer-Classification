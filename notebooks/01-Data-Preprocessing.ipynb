{
 "cells": [
  {
   "cell_type": "markdown",
   "metadata": {},
   "source": [
    "<div align = \"center\" style = \"font-family:consolas;\"> <h1> Alzheimer's  Dataset Exploratory Analysis </h1> </div>"
   ]
  },
  {
   "cell_type": "markdown",
   "metadata": {},
   "source": [
    "<div align = \"center\"> <p style = \"font-family: consolas\"> This notebook is being used to conduct an exploratory analysis and preprocessing on the dataset, i will clean, standardize the data</p> </div>"
   ]
  },
  {
   "cell_type": "markdown",
   "metadata": {},
   "source": [
    "<ul><li><p style = \"font-family: consolas\"> Importing important libraries</p></li></ul>"
   ]
  },
  {
   "cell_type": "code",
   "execution_count": 39,
   "metadata": {},
   "outputs": [],
   "source": [
    "import numpy as np\n",
    "import matplotlib.pyplot as plt\n",
    "import pandas as pd\n",
    "import seaborn as sns\n",
    "from sklearn.model_selection import train_test_split"
   ]
  },
  {
   "cell_type": "markdown",
   "metadata": {},
   "source": [
    "<ul><li><p style = \"font-family: consolas\"> Loading the data and describing it</p></li></ul>"
   ]
  },
  {
   "cell_type": "code",
   "execution_count": null,
   "metadata": {},
   "outputs": [],
   "source": [
    "df = pd.read_csv('data/data.csv')\n",
    "df.head()"
   ]
  },
  {
   "cell_type": "code",
   "execution_count": null,
   "metadata": {},
   "outputs": [],
   "source": [
    "df.info()\n",
    "df.describe()"
   ]
  },
  {
   "cell_type": "markdown",
   "metadata": {},
   "source": [
    "<ul><li><p style = \"font-family: consolas\"> Check for missing values and duplicate data</p></li></ul>"
   ]
  },
  {
   "cell_type": "code",
   "execution_count": null,
   "metadata": {},
   "outputs": [],
   "source": [
    "print(df.isnull().sum())\n",
    "print(df.duplicated().sum())"
   ]
  },
  {
   "cell_type": "markdown",
   "metadata": {},
   "source": [
    "<p style = \"font-family: consolas\"> No missing values found</p>"
   ]
  },
  {
   "cell_type": "markdown",
   "metadata": {},
   "source": [
    "<ul><li><p style = \"font-family: consolas\"> Visualize the data</p></li></ul>"
   ]
  },
  {
   "cell_type": "code",
   "execution_count": null,
   "metadata": {},
   "outputs": [],
   "source": [
    "df.hist(figsize=(12, 8), bins=30)\n",
    "plt.show()"
   ]
  },
  {
   "cell_type": "code",
   "execution_count": null,
   "metadata": {},
   "outputs": [],
   "source": [
    "# Create a 3x3 grid of subplots\n",
    "fig, axes = plt.subplots(7, 3, figsize=(24, 16))\n",
    "\n",
    "# List of categorical columns\n",
    "categorical_columns = [\"Country\", \"Gender\", \"Physical Activity Level\", \n",
    "                       \"Smoking Status\", \"Alcohol Consumption\", \"Diabetes\", \"Hypertension\", \"Cholesterol Level\",\n",
    "                       \"Family History of Alzheimer’s\" , \"Depression Level\",\"Sleep Quality\",\n",
    "                       \"Dietary Habits\",\"Air Pollution Exposure\", \"Employment Status\", \"Marital Status\",\n",
    "                       \"Genetic Risk Factor (APOE-ε4 allele)\", \"Social Engagement Level\",\n",
    "                       \"Income Level\",\"Stress Levels\",\"Urban vs Rural Living\",\"Alzheimer’s Diagnosis\"]\n",
    "\n",
    "# Flatten the 2D axes array to easily loop through it\n",
    "axes = axes.flatten()\n",
    "\n",
    "# Plot countplots for each categorical feature\n",
    "for i, col in enumerate(categorical_columns):\n",
    "    sns.countplot(y=df[col], ax=axes[i])\n",
    "    axes[i].set_title(f\"{col} Distribution\")\n",
    "    axes[i].tick_params(axis='y', labelsize=12)  # Adjust label size for readability\n",
    "\n",
    "# Adjust layout\n",
    "plt.tight_layout()\n",
    "plt.show()"
   ]
  },
  {
   "cell_type": "markdown",
   "metadata": {},
   "source": [
    "<ul><li><p style = \"font-family: consolas\"> Binary Encoding Suitiable Categorical Data </p></li></ul>"
   ]
  },
  {
   "cell_type": "code",
   "execution_count": 45,
   "metadata": {},
   "outputs": [],
   "source": [
    "df['Gender'] = df['Gender'].map({'Male' : 0 , 'Female' : 1})\n",
    "df['Diabetes'] = df['Diabetes'].map({'No' : 0 , 'Yes' : 1})\n",
    "df['Hypertension'] = df['Hypertension'].map({'No' : 0 , 'Yes' : 1})\n",
    "df['Cholesterol Level'] = df['Cholesterol Level'].map({'Normal' : 0 , 'High' : 1})\n",
    "df['Family History of Alzheimer’s'] = df['Family History of Alzheimer’s'].map({'No' : 0 , 'Yes' : 1})\n",
    "df['Genetic Risk Factor (APOE-ε4 allele)'] = df['Genetic Risk Factor (APOE-ε4 allele)'].map({'No' : 0 , 'Yes' : 1})\n",
    "df['Urban vs Rural Living'] = df['Urban vs Rural Living'].map({'Urban' : 0 , 'Rural' : 1})\n",
    "df['Alzheimer’s Diagnosis'] = df['Alzheimer’s Diagnosis'].map({'No' : 0 , 'Yes' : 1})"
   ]
  },
  {
   "cell_type": "markdown",
   "metadata": {},
   "source": [
    "<ul><li><p style = \"font-family: consolas\"> Split test and training data</p></li></ul>"
   ]
  },
  {
   "cell_type": "code",
   "execution_count": 46,
   "metadata": {},
   "outputs": [],
   "source": [
    "train_data , test_data = train_test_split(df, test_size=0.2, random_state=42)"
   ]
  },
  {
   "cell_type": "markdown",
   "metadata": {},
   "source": [
    "<ul><li><p style = \"font-family: consolas\"> Save Training And Testing Data</p></li></ul>"
   ]
  },
  {
   "cell_type": "code",
   "execution_count": 47,
   "metadata": {},
   "outputs": [],
   "source": [
    "train_data.to_csv('data/train_data.csv', index=False)\n",
    "test_data.to_csv('data/test_data.csv', index=False)"
   ]
  }
 ],
 "metadata": {
  "kernelspec": {
   "display_name": "Python 3 (ipykernel)",
   "language": "python",
   "name": "python3"
  },
  "language_info": {
   "codemirror_mode": {
    "name": "ipython",
    "version": 3
   },
   "file_extension": ".py",
   "mimetype": "text/x-python",
   "name": "python",
   "nbconvert_exporter": "python",
   "pygments_lexer": "ipython3",
   "version": "3.12.0"
  }
 },
 "nbformat": 4,
 "nbformat_minor": 2
}
